{
 "cells": [
  {
   "cell_type": "markdown",
   "metadata": {},
   "source": [
    "# Kata 7"
   ]
  },
  {
   "cell_type": "code",
   "execution_count": 4,
   "metadata": {},
   "outputs": [
    {
     "name": "stdout",
     "output_type": "stream",
     "text": [
      "Tierra\n",
      "Tierra\n",
      "Marte\n",
      "Tierra\n",
      "Marte\n",
      "Jupitaer\n",
      "Tierra\n",
      "Marte\n",
      "Jupitaer\n",
      "Urano\n",
      "Tierra\n",
      "Marte\n",
      "Jupitaer\n",
      "Urano\n",
      "Tierra\n",
      "Tierra\n",
      "Marte\n",
      "Jupitaer\n",
      "Urano\n",
      "Tierra\n",
      "Osvaldo\n"
     ]
    }
   ],
   "source": [
    "# Ejercicio 1 \n",
    " # Declaracion de  2 variables\n",
    "nuevo_planeta= ''\n",
    "planetas=[]\n",
    "\n",
    "# Escribe el ciclo while \n",
    "while nuevo_planeta.lower() != 'done':\n",
    "    if nuevo_planeta:\n",
    "        planetas.append(nuevo_planeta)\n",
    "    nuevo_planeta=input('Nuevo planeta')\n",
    "    # Ejercicio 2\n",
    "    # Escribe tu ciclo for \n",
    "    for planeta in planetas:\n",
    "     print(planeta)"
   ]
  }
 ],
 "metadata": {
  "interpreter": {
   "hash": "ac59ebe37160ed0dfa835113d9b8498d9f09ceb179beaac4002f036b9467c963"
  },
  "kernelspec": {
   "display_name": "Python 3.9.7 64-bit",
   "language": "python",
   "name": "python3"
  },
  "language_info": {
   "codemirror_mode": {
    "name": "ipython",
    "version": 3
   },
   "file_extension": ".py",
   "mimetype": "text/x-python",
   "name": "python",
   "nbconvert_exporter": "python",
   "pygments_lexer": "ipython3",
   "version": "3.9.7"
  },
  "orig_nbformat": 4
 },
 "nbformat": 4,
 "nbformat_minor": 2
}
