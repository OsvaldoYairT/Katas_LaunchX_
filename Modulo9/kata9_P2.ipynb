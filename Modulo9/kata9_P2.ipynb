{
 "cells": [
  {
   "cell_type": "markdown",
   "metadata": {},
   "source": [
    "# kata 9\n"
   ]
  },
  {
   "cell_type": "code",
   "execution_count": 1,
   "metadata": {},
   "outputs": [
    {
     "name": "stdout",
     "output_type": "stream",
     "text": [
      "\n",
      "    Mision luna\n",
      "    Total_vuelo: 76 minutos\n",
      "    Total_gas: 500000\n",
      "    \n"
     ]
    }
   ],
   "source": [
    "# Ejercicio 1\n",
    "# Escribe tu nueva función de reporte considerando lo anterior\n",
    "\n",
    "def reporte(destino, *minutos, **gasolina):\n",
    "    return f\"\"\"\n",
    "    Mision {destino}\n",
    "    Total_vuelo: {sum(minutos)} minutos\n",
    "    Total_gas: {sum(gasolina.values())}\n",
    "    \"\"\"\n",
    "\n",
    "print(reporte(\"luna\", 10, 15, 51, main=300000, external=200000))"
   ]
  },
  {
   "cell_type": "code",
   "execution_count": 2,
   "metadata": {},
   "outputs": [
    {
     "name": "stdout",
     "output_type": "stream",
     "text": [
      "\n",
      "    Mision luna\n",
      "    Total_vuelo: 74 minutos\n",
      "    Total_gas: 500000\n",
      "    main tanque --> 300000 quedan de galones\n",
      "external tanque --> 200000 quedan de galones\n",
      "\n"
     ]
    }
   ],
   "source": [
    "# Escribe tu nueva función\n",
    "\n",
    "def reporte(destino, *minutos, **gasolina):\n",
    "    reporte_v = f\"\"\"\n",
    "    Mision {destino}\n",
    "    Total_vuelo: {sum(minutos)} minutos\n",
    "    Total_gas: {sum(gasolina.values())}\n",
    "    \"\"\"\n",
    "    for tanques, galom in gasolina.items():\n",
    "        reporte_v += f\"{tanques} tanque --> {galom} quedan de galones\\n\"\n",
    "    return reporte_v\n",
    "\n",
    "print(reporte(\"luna\", 8, 11, 55, main=300000, external=200000))"
   ]
  }
 ],
 "metadata": {
  "interpreter": {
   "hash": "ac59ebe37160ed0dfa835113d9b8498d9f09ceb179beaac4002f036b9467c963"
  },
  "kernelspec": {
   "display_name": "Python 3.9.7 64-bit",
   "language": "python",
   "name": "python3"
  },
  "language_info": {
   "codemirror_mode": {
    "name": "ipython",
    "version": 3
   },
   "file_extension": ".py",
   "mimetype": "text/x-python",
   "name": "python",
   "nbconvert_exporter": "python",
   "pygments_lexer": "ipython3",
   "version": "3.9.7"
  },
  "orig_nbformat": 4
 },
 "nbformat": 4,
 "nbformat_minor": 2
}
