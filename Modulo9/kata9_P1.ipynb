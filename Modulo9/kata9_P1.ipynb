{
 "cells": [
  {
   "cell_type": "markdown",
   "metadata": {},
   "source": [
    "# kata 9\n"
   ]
  },
  {
   "cell_type": "code",
   "execution_count": 1,
   "metadata": {},
   "outputs": [
    {
     "name": "stdout",
     "output_type": "stream",
     "text": [
      "El reporte fue:\n",
      "    Total Gas: 78.33333333333333%\n",
      "    Gas_disel: 80%\n",
      "    Gas_magna: 70%\n",
      "    Gas_premium: 85% \n"
     ]
    }
   ],
   "source": [
    "# Ejercicio 1\n",
    "# Función para leer 3 tanques de combustible y muestre el promedio\n",
    "\n",
    "def tanques(disel, magna, premium):\n",
    "    total = (disel + magna + premium) / 3\n",
    "    return f\"\"\"El reporte fue:\n",
    "    Total Gas: {total}%\n",
    "    Gas_disel: {disel}%\n",
    "    Gas_magna: {magna}%\n",
    "    Gas_premium: {premium}% \"\"\"\n",
    "\n",
    "# Llamamos a la función que genera el reporte print(funcion(tanque1, tanque2, tanque3))\n",
    "print(tanques(80, 70, 85))"
   ]
  },
  {
   "cell_type": "code",
   "execution_count": 2,
   "metadata": {},
   "outputs": [
    {
     "data": {
      "text/plain": [
       "82.0"
      ]
     },
     "execution_count": 2,
     "metadata": {},
     "output_type": "execute_result"
    }
   ],
   "source": [
    "# Función promedio \n",
    "def promedio(values):\n",
    "    total = sum(values)\n",
    "    numero = len(values)\n",
    "    return total / numero\n",
    "\n",
    "promedio([80, 85, 81]) "
   ]
  },
  {
   "cell_type": "code",
   "execution_count": 3,
   "metadata": {},
   "outputs": [
    {
     "name": "stdout",
     "output_type": "stream",
     "text": [
      "El reporte fue:\n",
      "    Total del promerio: 78.0%\n",
      "    Gas_disel: 88%\n",
      "    Gas_magna: 76%\n",
      "    Gas_premium: 70% \n",
      "    \n"
     ]
    }
   ],
   "source": [
    "# Actualiza la función\n",
    "def tanques(disel, magna, premium):\n",
    "    return f\"\"\"El reporte fue:\n",
    "    Total del promerio: {promedio([disel, magna, premium])}%\n",
    "    Gas_disel: {disel}%\n",
    "    Gas_magna: {magna}%\n",
    "    Gas_premium: {premium}% \n",
    "    \"\"\"\n",
    "    \n",
    "print(tanques(88, 76, 70))"
   ]
  }
 ],
 "metadata": {
  "interpreter": {
   "hash": "ac59ebe37160ed0dfa835113d9b8498d9f09ceb179beaac4002f036b9467c963"
  },
  "kernelspec": {
   "display_name": "Python 3.9.7 64-bit",
   "language": "python",
   "name": "python3"
  },
  "language_info": {
   "codemirror_mode": {
    "name": "ipython",
    "version": 3
   },
   "file_extension": ".py",
   "mimetype": "text/x-python",
   "name": "python",
   "nbconvert_exporter": "python",
   "pygments_lexer": "ipython3",
   "version": "3.9.7"
  },
  "orig_nbformat": 4
 },
 "nbformat": 4,
 "nbformat_minor": 2
}
