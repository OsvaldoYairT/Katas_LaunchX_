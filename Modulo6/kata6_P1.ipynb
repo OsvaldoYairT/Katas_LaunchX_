{
 "cells": [
  {
   "cell_type": "markdown",
   "metadata": {},
   "source": [
    "# Kata 6\n"
   ]
  },
  {
   "cell_type": "code",
   "execution_count": 3,
   "metadata": {},
   "outputs": [
    {
     "name": "stdout",
     "output_type": "stream",
     "text": [
      "Total de planetas en el sistema solar que son:  8\n"
     ]
    }
   ],
   "source": [
    "# Ejercicio 1\n",
    "# Creamos la lista planetas y la mostramos\n",
    "planetas = ['Mercurio', 'Venus', 'Tierra', 'Marte', 'Jupiter','Saturno',\n",
    "           'Urano', 'Neptuno']\n",
    "\n",
    "t_planetas=len(planetas)\n",
    "print('Total de planetas en el sistema solar que son: ', t_planetas)"
   ]
  },
  {
   "cell_type": "code",
   "execution_count": 4,
   "metadata": {},
   "outputs": [
    {
     "name": "stdout",
     "output_type": "stream",
     "text": [
      "Se agrego un nuevo planeta\n",
      "La lista de los planetas se actualizo y en total son:  9\n"
     ]
    }
   ],
   "source": [
    "# Agregamos a plutón y mostramos el último elemento\n",
    "\n",
    "planetas.append('Pluton')\n",
    "n_planetas= len(planetas)\n",
    "print('Se agrego un nuevo planeta')\n",
    "print('La lista de los planetas se actualizo y en total son: ', n_planetas )"
   ]
  }
 ],
 "metadata": {
  "interpreter": {
   "hash": "ac59ebe37160ed0dfa835113d9b8498d9f09ceb179beaac4002f036b9467c963"
  },
  "kernelspec": {
   "display_name": "Python 3.9.7 64-bit",
   "language": "python",
   "name": "python3"
  },
  "language_info": {
   "codemirror_mode": {
    "name": "ipython",
    "version": 3
   },
   "file_extension": ".py",
   "mimetype": "text/x-python",
   "name": "python",
   "nbconvert_exporter": "python",
   "pygments_lexer": "ipython3",
   "version": "3.9.7"
  },
  "orig_nbformat": 4
 },
 "nbformat": 4,
 "nbformat_minor": 2
}
