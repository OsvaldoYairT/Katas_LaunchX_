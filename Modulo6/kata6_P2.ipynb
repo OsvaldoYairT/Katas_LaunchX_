{
 "cells": [
  {
   "cell_type": "markdown",
   "metadata": {},
   "source": [
    "# Kata 6"
   ]
  },
  {
   "cell_type": "code",
   "execution_count": 1,
   "metadata": {},
   "outputs": [],
   "source": [
    "# Ejercicio 2\n",
    "#  lista de planetas\n",
    "planetas = ['Mercurio', 'Venus', 'Tierra', 'Marte', 'Jupiter','Saturno',\n",
    "           'Urano', 'Neptuno']\n",
    "\n",
    "# Solicita el nombre de un planeta \n",
    "nombre_p=input('Agregue el nombre del planeta: ')\n",
    "\n",
    "# Buscar el planeta en la lista\n",
    "b_planeta= planetas.index(nombre_p)"
   ]
  },
  {
   "cell_type": "code",
   "execution_count": 2,
   "metadata": {},
   "outputs": [
    {
     "name": "stdout",
     "output_type": "stream",
     "text": [
      "El planeta mas cercano de: Tierra\n",
      "['Mercurio', 'Venus']\n",
      "El planeta mas lejano de: Tierra\n",
      "['Marte', 'Jupiter', 'Saturno', 'Urano', 'Neptuno']\n"
     ]
    }
   ],
   "source": [
    "# Mostrar los planetas más cercanos al sol\n",
    "print('El planeta mas cercano de: ' +nombre_p)\n",
    "print(planetas[0:b_planeta])\n",
    "\n",
    "# Mostrar los planetas más lejanos al sol\n",
    "print('El planeta mas lejano de: ' +nombre_p)\n",
    "print(planetas[b_planeta+1:])"
   ]
  }
 ],
 "metadata": {
  "interpreter": {
   "hash": "ac59ebe37160ed0dfa835113d9b8498d9f09ceb179beaac4002f036b9467c963"
  },
  "kernelspec": {
   "display_name": "Python 3.9.7 64-bit",
   "language": "python",
   "name": "python3"
  },
  "language_info": {
   "codemirror_mode": {
    "name": "ipython",
    "version": 3
   },
   "file_extension": ".py",
   "mimetype": "text/x-python",
   "name": "python",
   "nbconvert_exporter": "python",
   "pygments_lexer": "ipython3",
   "version": "3.9.7"
  },
  "orig_nbformat": 4
 },
 "nbformat": 4,
 "nbformat_minor": 2
}
