{
 "cells": [
  {
   "cell_type": "markdown",
   "metadata": {},
   "source": [
    "# Kata 4 Ejercicio 1"
   ]
  },
  {
   "cell_type": "code",
   "execution_count": 1,
   "metadata": {},
   "outputs": [
    {
     "name": "stdout",
     "output_type": "stream",
     "text": [
      "['Interesting facts about the Moon', \" The Moon is Earth's \\nonly satellite\", ' There are several interesting facts about the Moon \\nand how it affects life here on Earth', ' On average, the Moon moves \\n4cm away from the Earth every year', ' This yearly drift is not \\nsignificant enough to cause immediate effects on Earth', ' The \\nhighest daylight temperature of the Moon is 127 C', '']\n",
      " The Moon is Earth's \n",
      "only satellite\n",
      " There are several interesting facts about the Moon \n",
      "and how it affects life here on Earth\n",
      " This yearly drift is not \n",
      "significant enough to cause immediate effects on Earth\n",
      " The \n",
      "highest daylight temperature of the Moon is 127 C\n",
      "Interesting facts about the Moon\n",
      " The Moon is Earth's \n",
      "only satellite\n",
      " There are several interesting facts about the Moon \n",
      "and how it affects life here on Earth\n",
      " This yearly drift is not \n",
      "significant enough to cause immediate effects on Earth\n",
      " The \n",
      "highest daylight temperature of the Moon is 127 C\n"
     ]
    }
   ],
   "source": [
    "text = \"\"\"Interesting facts about the Moon. The Moon is Earth's \n",
    "only satellite. There are several interesting facts about the Moon \n",
    "and how it affects life here on Earth. On average, the Moon moves \n",
    "4cm away from the Earth every year. This yearly drift is not \n",
    "significant enough to cause immediate effects on Earth. The \n",
    "highest daylight temperature of the Moon is 127 C.\"\"\"\n",
    "\n",
    "text_partes=text.split('.')\n",
    "print(text_partes)\n",
    "\n",
    "pista = [\"average\", \"temperature\", \"distance\"]\n",
    "\n",
    "# Ciclo for para recorrer la cadena\n",
    "for sentence in text_partes:\n",
    "    for pista in pista:\n",
    "        if pista in sentence:\n",
    "            print(sentence)\n",
    "            break\n",
    "\n",
    "# Ciclo for para recorrer la cadena\n",
    "for sentence in text_partes:\n",
    "    for pista in pista:\n",
    "        if pista in sentence:\n",
    "            print(sentence)\n",
    "            break"
   ]
  }
 ],
 "metadata": {
  "interpreter": {
   "hash": "ac59ebe37160ed0dfa835113d9b8498d9f09ceb179beaac4002f036b9467c963"
  },
  "kernelspec": {
   "display_name": "Python 3.9.7 64-bit",
   "language": "python",
   "name": "python3"
  },
  "language_info": {
   "codemirror_mode": {
    "name": "ipython",
    "version": 3
   },
   "file_extension": ".py",
   "mimetype": "text/x-python",
   "name": "python",
   "nbconvert_exporter": "python",
   "pygments_lexer": "ipython3",
   "version": "3.9.7"
  },
  "orig_nbformat": 4
 },
 "nbformat": 4,
 "nbformat_minor": 2
}
