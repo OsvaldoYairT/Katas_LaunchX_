{
 "cells": [
  {
   "cell_type": "markdown",
   "metadata": {},
   "source": [
    "# Ejercicio 2"
   ]
  },
  {
   "cell_type": "code",
   "execution_count": 2,
   "metadata": {},
   "outputs": [
    {
     "name": "stdout",
     "output_type": "stream",
     "text": [
      "-4267200000\n",
      "2649931200.0\n"
     ]
    }
   ],
   "source": [
    "# Almacenar las entradas del usuario\n",
    "#Pista: variable = input(\"¿Cuál es tu nombre?\")\n",
    "\n",
    "dis_planeta1= input('¿Cual es la distancia del sol, del primer planeta, en kM?: ')\n",
    "dis_planeta2= input('¿Cual es la distancia del sol, del segundo planeta, en kM?: ')\n",
    "\n",
    "# Convierte las cadenas de ambos planetas a números enteros\n",
    "planeta1= int(dis_planeta1)\n",
    "planeta2= int(dis_planeta2)\n",
    "\n",
    "# Realizar el cálculo y determinar el valor absoluto\n",
    "result_planetas= planeta2-planeta1\n",
    "print(result_planetas)\n",
    "\n",
    "# Convertir de KM a Millas\n",
    "dista_planetas= result_planetas * 0.621\n",
    "print(abs(dista_planetas))"
   ]
  }
 ],
 "metadata": {
  "interpreter": {
   "hash": "ac59ebe37160ed0dfa835113d9b8498d9f09ceb179beaac4002f036b9467c963"
  },
  "kernelspec": {
   "display_name": "Python 3.9.7 64-bit",
   "language": "python",
   "name": "python3"
  },
  "language_info": {
   "codemirror_mode": {
    "name": "ipython",
    "version": 3
   },
   "file_extension": ".py",
   "mimetype": "text/x-python",
   "name": "python",
   "nbconvert_exporter": "python",
   "pygments_lexer": "ipython3",
   "version": "3.9.7"
  },
  "orig_nbformat": 4
 },
 "nbformat": 4,
 "nbformat_minor": 2
}
