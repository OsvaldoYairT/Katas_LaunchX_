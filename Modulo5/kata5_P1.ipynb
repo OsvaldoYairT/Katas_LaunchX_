{
 "cells": [
  {
   "cell_type": "markdown",
   "metadata": {},
   "source": [
    "# Ejercicio 1"
   ]
  },
  {
   "cell_type": "code",
   "execution_count": 1,
   "metadata": {},
   "outputs": [
    {
     "name": "stdout",
     "output_type": "stream",
     "text": [
      "628949330\n",
      "390577534\n"
     ]
    }
   ],
   "source": [
    "# Crear variables para almacenar las dos distancias\n",
    "Tierra = 149597870 #km\n",
    "Jupiter= 778547200 #km\n",
    "\n",
    "# Calcular la distancia entre planetas\n",
    "resta_plantea= Jupiter- Tierra\n",
    "print(resta_plantea)\n",
    "\n",
    "# Covertir la distancia del km a milla x 0.621\n",
    "km_milla= 0.621\n",
    "milla=resta_plantea*km_milla\n",
    "# print(milla) con decimales\n",
    "print(round(milla))"
   ]
  }
 ],
 "metadata": {
  "interpreter": {
   "hash": "ac59ebe37160ed0dfa835113d9b8498d9f09ceb179beaac4002f036b9467c963"
  },
  "kernelspec": {
   "display_name": "Python 3.9.7 64-bit",
   "language": "python",
   "name": "python3"
  },
  "language_info": {
   "codemirror_mode": {
    "name": "ipython",
    "version": 3
   },
   "file_extension": ".py",
   "mimetype": "text/x-python",
   "name": "python",
   "nbconvert_exporter": "python",
   "pygments_lexer": "ipython3",
   "version": "3.9.7"
  },
  "orig_nbformat": 4
 },
 "nbformat": 4,
 "nbformat_minor": 2
}
