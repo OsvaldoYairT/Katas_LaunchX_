{
 "cells": [
  {
   "cell_type": "markdown",
   "metadata": {},
   "source": [
    "# Kata 3, Problema 1"
   ]
  },
  {
   "cell_type": "code",
   "execution_count": 4,
   "metadata": {},
   "outputs": [
    {
     "name": "stdout",
     "output_type": "stream",
     "text": [
      "Introduzca la velocidad del asteroide\n",
      "Alerta!!!! Un asteroide se acerca a la Tierra\n"
     ]
    }
   ],
   "source": [
    "print ('Introduzca la velocidad del asteroide')\n",
    "asteroide = int (input('la velocidad es: '))\n",
    "# Asteroide = 49\n",
    "if asteroide > 25:\n",
    "    print('Alerta!!!! Un asteroide se acerca a la Tierra')\n",
    "else:\n",
    "    print('Sin Peligro.')"
   ]
  }
 ],
 "metadata": {
  "interpreter": {
   "hash": "ac59ebe37160ed0dfa835113d9b8498d9f09ceb179beaac4002f036b9467c963"
  },
  "kernelspec": {
   "display_name": "Python 3.9.7 64-bit",
   "language": "python",
   "name": "python3"
  },
  "language_info": {
   "codemirror_mode": {
    "name": "ipython",
    "version": 3
   },
   "file_extension": ".py",
   "mimetype": "text/x-python",
   "name": "python",
   "nbconvert_exporter": "python",
   "pygments_lexer": "ipython3",
   "version": "3.9.7"
  },
  "orig_nbformat": 4
 },
 "nbformat": 4,
 "nbformat_minor": 2
}
