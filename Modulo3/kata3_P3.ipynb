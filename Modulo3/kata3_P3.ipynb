{
 "cells": [
  {
   "cell_type": "markdown",
   "metadata": {},
   "source": [
    "# Kata 3, Problema 3"
   ]
  },
  {
   "cell_type": "code",
   "execution_count": 1,
   "metadata": {},
   "outputs": [
    {
     "name": "stdout",
     "output_type": "stream",
     "text": [
      "Introduzca la velocidad del asteroide\n",
      "Introduzca el tamaño del asteroide\n",
      "Hay una luz en el cielo\n"
     ]
    }
   ],
   "source": [
    "print ('Introduzca la velocidad del asteroide')\n",
    "veloc_asteroide = int (input('La velocidad es: '))\n",
    "print ('Introduzca el tamaño del asteroide')\n",
    "tam_asteroide = int (input('El tamaño es: '))\n",
    "#veloc_asteroide = 25\n",
    "#tam_asteroide = 40\n",
    "if veloc_asteroide > 25:\n",
    "    print('Peligro!! Un asteroide viene hacia la Tierra!')\n",
    "elif veloc_asteroide >= 20:\n",
    "    print('Hay una luz en el cielo')\n",
    "elif tam_asteroide < 25 and tam_asteroide <1000:\n",
    "    print('Peligro, Causara daño en la Tierra!!!')\n",
    "else:\n",
    "    print('No hay peligro :)')"
   ]
  }
 ],
 "metadata": {
  "interpreter": {
   "hash": "ac59ebe37160ed0dfa835113d9b8498d9f09ceb179beaac4002f036b9467c963"
  },
  "kernelspec": {
   "display_name": "Python 3.9.7 64-bit",
   "language": "python",
   "name": "python3"
  },
  "language_info": {
   "codemirror_mode": {
    "name": "ipython",
    "version": 3
   },
   "file_extension": ".py",
   "mimetype": "text/x-python",
   "name": "python",
   "nbconvert_exporter": "python",
   "pygments_lexer": "ipython3",
   "version": "3.9.7"
  },
  "orig_nbformat": 4
 },
 "nbformat": 4,
 "nbformat_minor": 2
}
